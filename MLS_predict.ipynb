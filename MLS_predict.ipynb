{
  "nbformat": 4,
  "nbformat_minor": 0,
  "metadata": {
    "colab": {
      "provenance": [],
      "include_colab_link": true
    },
    "kernelspec": {
      "name": "python3",
      "display_name": "Python 3"
    },
    "language_info": {
      "name": "python"
    }
  },
  "cells": [
    {
      "cell_type": "markdown",
      "metadata": {
        "id": "view-in-github",
        "colab_type": "text"
      },
      "source": [
        "<a href=\"https://colab.research.google.com/github/tao8max/JavaScript-final-project/blob/master/MLS_predict.ipynb\" target=\"_parent\"><img src=\"https://colab.research.google.com/assets/colab-badge.svg\" alt=\"Open In Colab\"/></a>"
      ]
    },
    {
      "cell_type": "markdown",
      "source": [
        "\n",
        "retrieve data from SportRadar and save the information about each team in the current MLS season to files in a folder. Each xml file includes information about the previous and upcoming games for each team. It also includes cool stats like yellow cards, shots on target per player, referee country of birth, ball possession percentage etc.."
      ],
      "metadata": {
        "id": "8oBstK8KBpJr"
      }
    },
    {
      "cell_type": "code",
      "source": [
        "import requests\n",
        "import os\n",
        "\n",
        "# List of competitor IDs\n",
        "competitor_ids = [\n",
        "    \"sr:competitor:5133\",\n",
        "    \"sr:competitor:7080\",\n",
        "    \"sr:competitor:21825\",\n",
        "    \"sr:competitor:22006\",\n",
        "    \"sr:competitor:22007\",\n",
        "    \"sr:competitor:22009\",\n",
        "    \"sr:competitor:22010\",\n",
        "    \"sr:competitor:39833\",\n",
        "    \"sr:competitor:41618\",\n",
        "    \"sr:competitor:52237\",\n",
        "    \"sr:competitor:167510\",\n",
        "    \"sr:competitor:245305\",\n",
        "    \"sr:competitor:305920\",\n",
        "    \"sr:competitor:402227\",\n",
        "    \"sr:competitor:659691\",\n",
        "    \"sr:competitor:668063\",\n",
        "    \"sr:competitor:772256\",\n",
        "    \"sr:competitor:863473\",\n",
        "    \"sr:competitor:874725\"\n",
        "]\n",
        "\n",
        "# Your API key goes here\n",
        "api_key = \"tznstwwhjksc7wk84wxaazcs\"\n",
        "\n",
        "# Base URL for the API\n",
        "base_url = \"https://api.sportradar.us/soccer/trial/v4/en/competitors/{}/summaries.xml\"\n",
        "\n",
        "# Directory to save the files\n",
        "output_directory = \"competitor_data\"\n",
        "\n",
        "# Create the output directory if it doesn't exist\n",
        "os.makedirs(output_directory, exist_ok=True)\n",
        "\n",
        "# Loop through each competitor ID\n",
        "for competitor_id in competitor_ids:\n",
        "    # Make the API request\n",
        "    url = base_url.format(competitor_id)\n",
        "    response = requests.get(url, params={\"api_key\": api_key})\n",
        "\n",
        "    # Check if the request was successful\n",
        "    if response.status_code == 200:\n",
        "        # Save the data to a file\n",
        "        # Replacing colons with underscores in the file name\n",
        "        file_name = f\"{competitor_id.replace(':', '_')}.xml\"\n",
        "        file_path = os.path.join(output_directory, file_name)\n",
        "        with open(file_path, \"w\") as file:\n",
        "            file.write(response.text)\n",
        "        print(f\"Data for {competitor_id} saved to {file_path}\")\n",
        "    else:\n",
        "        print(f\"Failed to retrieve data for {competitor_id}. Status code: {response.status_code}\")\n",
        "\n",
        "print(\"Completed.\")\n"
      ],
      "metadata": {
        "colab": {
          "base_uri": "https://localhost:8080/"
        },
        "id": "YPFWhO-uBrmz",
        "outputId": "52dfe354-fc74-4d20-f176-2431bc0d4c05"
      },
      "execution_count": null,
      "outputs": [
        {
          "output_type": "stream",
          "name": "stdout",
          "text": [
            "Data for sr:competitor:5133 saved to competitor_data/sr_competitor_5133.xml\n",
            "Data for sr:competitor:7080 saved to competitor_data/sr_competitor_7080.xml\n",
            "Data for sr:competitor:21825 saved to competitor_data/sr_competitor_21825.xml\n",
            "Data for sr:competitor:22006 saved to competitor_data/sr_competitor_22006.xml\n",
            "Data for sr:competitor:22007 saved to competitor_data/sr_competitor_22007.xml\n",
            "Data for sr:competitor:22009 saved to competitor_data/sr_competitor_22009.xml\n",
            "Data for sr:competitor:22010 saved to competitor_data/sr_competitor_22010.xml\n",
            "Data for sr:competitor:39833 saved to competitor_data/sr_competitor_39833.xml\n",
            "Data for sr:competitor:41618 saved to competitor_data/sr_competitor_41618.xml\n",
            "Data for sr:competitor:52237 saved to competitor_data/sr_competitor_52237.xml\n",
            "Data for sr:competitor:167510 saved to competitor_data/sr_competitor_167510.xml\n",
            "Data for sr:competitor:245305 saved to competitor_data/sr_competitor_245305.xml\n",
            "Data for sr:competitor:305920 saved to competitor_data/sr_competitor_305920.xml\n",
            "Data for sr:competitor:402227 saved to competitor_data/sr_competitor_402227.xml\n",
            "Data for sr:competitor:659691 saved to competitor_data/sr_competitor_659691.xml\n",
            "Data for sr:competitor:668063 saved to competitor_data/sr_competitor_668063.xml\n",
            "Data for sr:competitor:772256 saved to competitor_data/sr_competitor_772256.xml\n",
            "Data for sr:competitor:863473 saved to competitor_data/sr_competitor_863473.xml\n",
            "Data for sr:competitor:874725 saved to competitor_data/sr_competitor_874725.xml\n",
            "Completed.\n"
          ]
        }
      ]
    },
    {
      "cell_type": "markdown",
      "source": [
        "Creating a csv with all game data"
      ],
      "metadata": {
        "id": "xpdkNAgfEZ-u"
      }
    },
    {
      "cell_type": "markdown",
      "source": [
        "create a list of the upcoming MLS game in the current season. I had to use the mapping from team name to id since I had a hard time training the model on team name strings. It worked when I mapped the team names to an integer (team_mappings.csv)"
      ],
      "metadata": {
        "id": "pz_mVRoDGmBM"
      }
    },
    {
      "cell_type": "code",
      "source": [
        "import csv\n",
        "import xml.etree.ElementTree as ET\n",
        "from datetime import datetime\n",
        "import os\n",
        "\n",
        "# Define the XML namespace\n",
        "namespace = {'ns': 'http://schemas.sportradar.com/sportsapi/soccer/v4'}\n",
        "\n",
        "# Create a dictionary to store the team mappings\n",
        "team_mappings = {}\n",
        "\n",
        "# Get a list of XML files in the folder\n",
        "folder_path = 'competitor_data'\n",
        "xml_files = [file for file in os.listdir(folder_path) if file.endswith('.xml')]\n",
        "\n",
        "# Process each XML file\n",
        "for file in xml_files:\n",
        "    # Load and parse the XML file\n",
        "    tree = ET.parse(os.path.join(folder_path, file))\n",
        "    root = tree.getroot()\n",
        "\n",
        "    # Find all competitors elements\n",
        "    competitors_elements = root.findall(\".//ns:competitor\", namespace)\n",
        "\n",
        "    # Iterate over the competitors elements\n",
        "    for competitor_element in competitors_elements:\n",
        "        team_id = competitor_element.attrib.get('id')\n",
        "        team_name = competitor_element.attrib.get('name')\n",
        "\n",
        "        # Extract the number from the id field\n",
        "        team_number = int(team_id.split(':')[-1])\n",
        "\n",
        "        # Add the team mapping to the dictionary\n",
        "        team_mappings[team_name] = team_number\n",
        "\n",
        "# Create a list to store the formatted data\n",
        "data = []\n",
        "\n",
        "# Process each XML file again to extract game data\n",
        "for file in xml_files:\n",
        "    # Load and parse the XML file\n",
        "    tree = ET.parse(os.path.join(folder_path, file))\n",
        "    root = tree.getroot()\n",
        "\n",
        "    # Find all summary elements\n",
        "    summary_elements = root.findall(\".//ns:summary\", namespace)\n",
        "\n",
        "    # Iterate over the summary elements\n",
        "    for summary_element in summary_elements:\n",
        "        # Extract data from sport_event element\n",
        "        sport_event_element = summary_element.find(\"ns:sport_event\", namespace)\n",
        "        start_time = sport_event_element.attrib.get('start_time')\n",
        "\n",
        "        # Convert the start time to a datetime object\n",
        "        start_datetime = datetime.strptime(start_time, \"%Y-%m-%dT%H:%M:%S%z\")\n",
        "\n",
        "        # Check if the game has already happened\n",
        "        if start_datetime < datetime.now(start_datetime.tzinfo):\n",
        "            # Extract data from sport_event_status element\n",
        "            sport_event_status_element = summary_element.find(\"ns:sport_event_status\", namespace)\n",
        "            home_score = sport_event_status_element.attrib.get('home_score')\n",
        "            away_score = sport_event_status_element.attrib.get('away_score')\n",
        "\n",
        "            # Extract data from competitors element\n",
        "            competitors_element = sport_event_element.find(\"ns:competitors\", namespace)\n",
        "            home_team = competitors_element.find(\"./ns:competitor[@qualifier='home']\", namespace).attrib.get('name')\n",
        "            away_team = competitors_element.find(\"./ns:competitor[@qualifier='away']\", namespace).attrib.get('name')\n",
        "\n",
        "            # Determine the winner or indicate a tie\n",
        "            if home_score is not None and away_score is not None:\n",
        "                if home_score > away_score:\n",
        "                    winner = \"Home Team\"\n",
        "                elif home_score < away_score:\n",
        "                    winner = \"Away Team\"\n",
        "                else:\n",
        "                    winner = \"Tie\"\n",
        "            else:\n",
        "                winner = None\n",
        "\n",
        "            # Replace the team names with numbers\n",
        "            home_team_number = team_mappings.get(home_team)\n",
        "            away_team_number = team_mappings.get(away_team)\n",
        "\n",
        "            # Create a dictionary with the extracted data\n",
        "            game_data = {\n",
        "                \"Start Time\": start_datetime,\n",
        "                \"Home Team\": home_team_number,\n",
        "                \"Away Team\": away_team_number,\n",
        "                \"Home Score\": home_score,\n",
        "                \"Away Score\": away_score,\n",
        "                \"Winner\": winner\n",
        "            }\n",
        "\n",
        "            # Append the game data to the list\n",
        "            data.append(game_data)\n",
        "\n",
        "# Define the CSV file path\n",
        "csv_file_path = 'game_data.csv'\n",
        "\n",
        "# Write the data to the CSV file\n",
        "with open(csv_file_path, 'w', newline='') as csvfile:\n",
        "    fieldnames = [\"Start Time\", \"Home Team\", \"Away Team\", \"Home Score\", \"Away Score\", \"Winner\"]\n",
        "    writer = csv.DictWriter(csvfile, fieldnames=fieldnames)\n",
        "\n",
        "    # Write the header row\n",
        "    writer.writeheader()\n",
        "\n",
        "    # Write the data rows\n",
        "    for game in data:\n",
        "        writer.writerow(game)\n",
        "\n",
        "print(\"Data has been written to\", csv_file_path)\n",
        "\n"
      ],
      "metadata": {
        "colab": {
          "base_uri": "https://localhost:8080/"
        },
        "id": "keFH0COfHb80",
        "outputId": "98c71723-cf84-4cb7-ecff-50ab5f8dba9b"
      },
      "execution_count": null,
      "outputs": [
        {
          "output_type": "stream",
          "name": "stdout",
          "text": [
            "Data has been written to game_data.csv\n"
          ]
        }
      ]
    },
    {
      "cell_type": "markdown",
      "source": [
        "let's train the model, I used logistic regression.. I asked chatGPT to provide the simplest way to train the model and it suggested logistic regression"
      ],
      "metadata": {
        "id": "vbmwcAyBJcdj"
      }
    },
    {
      "cell_type": "code",
      "source": [
        "import pandas as pd\n",
        "from sklearn.model_selection import train_test_split\n",
        "from sklearn.linear_model import LogisticRegression\n",
        "from sklearn.metrics import classification_report\n",
        "import joblib\n",
        "\n",
        "# Load the game data from the CSV file\n",
        "data = pd.read_csv('game_data.csv')\n",
        "\n",
        "# Create the feature matrix X and target variable y\n",
        "X = data[['Home Team', 'Away Team']]\n",
        "y = (data['Winner'] == 'Home Team').astype(int)\n",
        "\n",
        "# Split the data into train and test sets\n",
        "X_train, X_test, y_train, y_test = train_test_split(X, y, test_size=0.2, random_state=42)\n",
        "\n",
        "# Train the logistic regression model\n",
        "model = LogisticRegression()\n",
        "model.fit(X_train, y_train)\n",
        "\n",
        "# Save the trained model\n",
        "joblib.dump(model, 'logistic_regression_model.pkl')\n",
        "\n",
        "# Make predictions on the test set\n",
        "y_pred = model.predict(X_test)\n",
        "\n",
        "# Evaluate the model\n",
        "print(classification_report(y_test, y_pred))\n"
      ],
      "metadata": {
        "colab": {
          "base_uri": "https://localhost:8080/"
        },
        "id": "LjE3tTpWJnr-",
        "outputId": "de84e689-cc2e-4ff6-c144-a6452f4a1873"
      },
      "execution_count": null,
      "outputs": [
        {
          "output_type": "stream",
          "name": "stdout",
          "text": [
            "              precision    recall  f1-score   support\n",
            "\n",
            "           0       0.53      0.55      0.54        64\n",
            "           1       0.40      0.38      0.39        50\n",
            "\n",
            "    accuracy                           0.47       114\n",
            "   macro avg       0.46      0.46      0.46       114\n",
            "weighted avg       0.47      0.47      0.47       114\n",
            "\n"
          ]
        }
      ]
    },
    {
      "cell_type": "markdown",
      "source": [
        "use the model to predict future games"
      ],
      "metadata": {
        "id": "AkQDNwl3KPJF"
      }
    },
    {
      "cell_type": "code",
      "source": [
        "import pandas as pd\n",
        "import joblib\n",
        "\n",
        "# Load the trained model\n",
        "model = joblib.load('logistic_regression_model.pkl')\n",
        "\n",
        "# Load the future games data\n",
        "future_games = pd.read_csv('future_games.csv')\n",
        "\n",
        "# Perform one-hot encoding on the team names\n",
        "teams_encoded = future_games[['Home Team', 'Away Team']]\n",
        "\n",
        "# Make predictions on the future games\n",
        "predictions = model.predict(teams_encoded)\n",
        "\n",
        "# Create a new DataFrame with the predicted outcomes\n",
        "predicted_games = future_games.copy()\n",
        "predicted_games['Winner'] = ['Home Team' if prediction == 1 else 'Away Team' for prediction in predictions]\n",
        "\n",
        "# Write the predicted games to a CSV file\n",
        "predicted_games.to_csv('predicted_games.csv', index=False)\n",
        "\n",
        "print(\"Predicted games have been written to predicted_games.csv\")\n"
      ],
      "metadata": {
        "colab": {
          "base_uri": "https://localhost:8080/"
        },
        "id": "5dtUVBPQKRBt",
        "outputId": "6a558275-a098-4285-9d3c-93ae65574551"
      },
      "execution_count": null,
      "outputs": [
        {
          "output_type": "stream",
          "name": "stdout",
          "text": [
            "Predicted games have been written to predicted_games.csv\n"
          ]
        }
      ]
    },
    {
      "cell_type": "markdown",
      "source": [
        "replace the numbers with the team names"
      ],
      "metadata": {
        "id": "9hAop32aKYY5"
      }
    },
    {
      "cell_type": "code",
      "source": [
        "import pandas as pd\n",
        "\n",
        "# Read the predicted games file\n",
        "predicted_games = pd.read_csv('predicted_games.csv')\n",
        "\n",
        "# Read the team mappings file\n",
        "team_mappings = pd.read_csv('team_mappings.csv')\n",
        "\n",
        "# Create a dictionary mapping team numbers to team names\n",
        "team_mapping_dict = dict(zip(team_mappings['Team Number'], team_mappings['Team Name']))\n",
        "\n",
        "# Replace team numbers with team names in the predicted games DataFrame\n",
        "predicted_games['Home Team'] = predicted_games['Home Team'].map(team_mapping_dict)\n",
        "predicted_games['Away Team'] = predicted_games['Away Team'].map(team_mapping_dict)\n",
        "\n",
        "# Write the updated predicted games to a new file\n",
        "predicted_games.to_csv('predicted_games_with_names.csv', index=False)\n",
        "\n",
        "print(\"Predicted games with team names have been written to predicted_games_with_names.csv\")\n"
      ],
      "metadata": {
        "colab": {
          "base_uri": "https://localhost:8080/"
        },
        "id": "gHgYuxQCKaNJ",
        "outputId": "f91b4db6-f191-4913-85dc-c37048993616"
      },
      "execution_count": null,
      "outputs": [
        {
          "output_type": "stream",
          "name": "stdout",
          "text": [
            "Predicted games with team names have been written to predicted_games_with_names.csv\n"
          ]
        }
      ]
    },
    {
      "cell_type": "code",
      "source": [
        "import pandas as pd\n",
        "\n",
        "# Read the CSV file\n",
        "df = pd.read_csv('/content/predicted_games_with_names.csv')\n",
        "\n",
        "# Sort the DataFrame by the \"Date\" column\n",
        "df_sorted = df.sort_values(by='Date')\n",
        "\n",
        "# Display the sorted DataFrame\n",
        "display(df_sorted)\n",
        "\n"
      ],
      "metadata": {
        "colab": {
          "base_uri": "https://localhost:8080/",
          "height": 424
        },
        "id": "7dniv9qNPeJ5",
        "outputId": "04923625-b314-4545-dfc9-d9089341a698"
      },
      "execution_count": null,
      "outputs": [
        {
          "output_type": "display_data",
          "data": {
            "text/plain": [
              "           Date             Home Team               Away Team     Winner\n",
              "283  2023-07-01       Orlando City SC            Chicago Fire  Home Team\n",
              "150  2023-07-01            Toronto FC          Real Salt Lake  Away Team\n",
              "250  2023-07-01        Inter Miami CF               Austin FC  Away Team\n",
              "84   2023-07-01         FC Cincinnati  New England Revolution  Home Team\n",
              "233  2023-07-01        Inter Miami CF               Austin FC  Away Team\n",
              "..          ...                   ...                     ...        ...\n",
              "135  2023-10-21            Toronto FC         Orlando City SC  Away Team\n",
              "183  2023-10-21  San Jose Earthquakes               Austin FC  Away Team\n",
              "151  2023-10-21   Saint Louis City SC        Seattle Sounders  Home Team\n",
              "32   2023-10-21   Saint Louis City SC        Seattle Sounders  Home Team\n",
              "0    2023-10-21      New York City FC            Chicago Fire  Home Team\n",
              "\n",
              "[318 rows x 4 columns]"
            ],
            "text/html": [
              "\n",
              "  <div id=\"df-0c038cb6-a87e-48d7-9dfd-51d5cccde461\">\n",
              "    <div class=\"colab-df-container\">\n",
              "      <div>\n",
              "<style scoped>\n",
              "    .dataframe tbody tr th:only-of-type {\n",
              "        vertical-align: middle;\n",
              "    }\n",
              "\n",
              "    .dataframe tbody tr th {\n",
              "        vertical-align: top;\n",
              "    }\n",
              "\n",
              "    .dataframe thead th {\n",
              "        text-align: right;\n",
              "    }\n",
              "</style>\n",
              "<table border=\"1\" class=\"dataframe\">\n",
              "  <thead>\n",
              "    <tr style=\"text-align: right;\">\n",
              "      <th></th>\n",
              "      <th>Date</th>\n",
              "      <th>Home Team</th>\n",
              "      <th>Away Team</th>\n",
              "      <th>Winner</th>\n",
              "    </tr>\n",
              "  </thead>\n",
              "  <tbody>\n",
              "    <tr>\n",
              "      <th>283</th>\n",
              "      <td>2023-07-01</td>\n",
              "      <td>Orlando City SC</td>\n",
              "      <td>Chicago Fire</td>\n",
              "      <td>Home Team</td>\n",
              "    </tr>\n",
              "    <tr>\n",
              "      <th>150</th>\n",
              "      <td>2023-07-01</td>\n",
              "      <td>Toronto FC</td>\n",
              "      <td>Real Salt Lake</td>\n",
              "      <td>Away Team</td>\n",
              "    </tr>\n",
              "    <tr>\n",
              "      <th>250</th>\n",
              "      <td>2023-07-01</td>\n",
              "      <td>Inter Miami CF</td>\n",
              "      <td>Austin FC</td>\n",
              "      <td>Away Team</td>\n",
              "    </tr>\n",
              "    <tr>\n",
              "      <th>84</th>\n",
              "      <td>2023-07-01</td>\n",
              "      <td>FC Cincinnati</td>\n",
              "      <td>New England Revolution</td>\n",
              "      <td>Home Team</td>\n",
              "    </tr>\n",
              "    <tr>\n",
              "      <th>233</th>\n",
              "      <td>2023-07-01</td>\n",
              "      <td>Inter Miami CF</td>\n",
              "      <td>Austin FC</td>\n",
              "      <td>Away Team</td>\n",
              "    </tr>\n",
              "    <tr>\n",
              "      <th>...</th>\n",
              "      <td>...</td>\n",
              "      <td>...</td>\n",
              "      <td>...</td>\n",
              "      <td>...</td>\n",
              "    </tr>\n",
              "    <tr>\n",
              "      <th>135</th>\n",
              "      <td>2023-10-21</td>\n",
              "      <td>Toronto FC</td>\n",
              "      <td>Orlando City SC</td>\n",
              "      <td>Away Team</td>\n",
              "    </tr>\n",
              "    <tr>\n",
              "      <th>183</th>\n",
              "      <td>2023-10-21</td>\n",
              "      <td>San Jose Earthquakes</td>\n",
              "      <td>Austin FC</td>\n",
              "      <td>Away Team</td>\n",
              "    </tr>\n",
              "    <tr>\n",
              "      <th>151</th>\n",
              "      <td>2023-10-21</td>\n",
              "      <td>Saint Louis City SC</td>\n",
              "      <td>Seattle Sounders</td>\n",
              "      <td>Home Team</td>\n",
              "    </tr>\n",
              "    <tr>\n",
              "      <th>32</th>\n",
              "      <td>2023-10-21</td>\n",
              "      <td>Saint Louis City SC</td>\n",
              "      <td>Seattle Sounders</td>\n",
              "      <td>Home Team</td>\n",
              "    </tr>\n",
              "    <tr>\n",
              "      <th>0</th>\n",
              "      <td>2023-10-21</td>\n",
              "      <td>New York City FC</td>\n",
              "      <td>Chicago Fire</td>\n",
              "      <td>Home Team</td>\n",
              "    </tr>\n",
              "  </tbody>\n",
              "</table>\n",
              "<p>318 rows × 4 columns</p>\n",
              "</div>\n",
              "      <button class=\"colab-df-convert\" onclick=\"convertToInteractive('df-0c038cb6-a87e-48d7-9dfd-51d5cccde461')\"\n",
              "              title=\"Convert this dataframe to an interactive table.\"\n",
              "              style=\"display:none;\">\n",
              "        \n",
              "  <svg xmlns=\"http://www.w3.org/2000/svg\" height=\"24px\"viewBox=\"0 0 24 24\"\n",
              "       width=\"24px\">\n",
              "    <path d=\"M0 0h24v24H0V0z\" fill=\"none\"/>\n",
              "    <path d=\"M18.56 5.44l.94 2.06.94-2.06 2.06-.94-2.06-.94-.94-2.06-.94 2.06-2.06.94zm-11 1L8.5 8.5l.94-2.06 2.06-.94-2.06-.94L8.5 2.5l-.94 2.06-2.06.94zm10 10l.94 2.06.94-2.06 2.06-.94-2.06-.94-.94-2.06-.94 2.06-2.06.94z\"/><path d=\"M17.41 7.96l-1.37-1.37c-.4-.4-.92-.59-1.43-.59-.52 0-1.04.2-1.43.59L10.3 9.45l-7.72 7.72c-.78.78-.78 2.05 0 2.83L4 21.41c.39.39.9.59 1.41.59.51 0 1.02-.2 1.41-.59l7.78-7.78 2.81-2.81c.8-.78.8-2.07 0-2.86zM5.41 20L4 18.59l7.72-7.72 1.47 1.35L5.41 20z\"/>\n",
              "  </svg>\n",
              "      </button>\n",
              "      \n",
              "  <style>\n",
              "    .colab-df-container {\n",
              "      display:flex;\n",
              "      flex-wrap:wrap;\n",
              "      gap: 12px;\n",
              "    }\n",
              "\n",
              "    .colab-df-convert {\n",
              "      background-color: #E8F0FE;\n",
              "      border: none;\n",
              "      border-radius: 50%;\n",
              "      cursor: pointer;\n",
              "      display: none;\n",
              "      fill: #1967D2;\n",
              "      height: 32px;\n",
              "      padding: 0 0 0 0;\n",
              "      width: 32px;\n",
              "    }\n",
              "\n",
              "    .colab-df-convert:hover {\n",
              "      background-color: #E2EBFA;\n",
              "      box-shadow: 0px 1px 2px rgba(60, 64, 67, 0.3), 0px 1px 3px 1px rgba(60, 64, 67, 0.15);\n",
              "      fill: #174EA6;\n",
              "    }\n",
              "\n",
              "    [theme=dark] .colab-df-convert {\n",
              "      background-color: #3B4455;\n",
              "      fill: #D2E3FC;\n",
              "    }\n",
              "\n",
              "    [theme=dark] .colab-df-convert:hover {\n",
              "      background-color: #434B5C;\n",
              "      box-shadow: 0px 1px 3px 1px rgba(0, 0, 0, 0.15);\n",
              "      filter: drop-shadow(0px 1px 2px rgba(0, 0, 0, 0.3));\n",
              "      fill: #FFFFFF;\n",
              "    }\n",
              "  </style>\n",
              "\n",
              "      <script>\n",
              "        const buttonEl =\n",
              "          document.querySelector('#df-0c038cb6-a87e-48d7-9dfd-51d5cccde461 button.colab-df-convert');\n",
              "        buttonEl.style.display =\n",
              "          google.colab.kernel.accessAllowed ? 'block' : 'none';\n",
              "\n",
              "        async function convertToInteractive(key) {\n",
              "          const element = document.querySelector('#df-0c038cb6-a87e-48d7-9dfd-51d5cccde461');\n",
              "          const dataTable =\n",
              "            await google.colab.kernel.invokeFunction('convertToInteractive',\n",
              "                                                     [key], {});\n",
              "          if (!dataTable) return;\n",
              "\n",
              "          const docLinkHtml = 'Like what you see? Visit the ' +\n",
              "            '<a target=\"_blank\" href=https://colab.research.google.com/notebooks/data_table.ipynb>data table notebook</a>'\n",
              "            + ' to learn more about interactive tables.';\n",
              "          element.innerHTML = '';\n",
              "          dataTable['output_type'] = 'display_data';\n",
              "          await google.colab.output.renderOutput(dataTable, element);\n",
              "          const docLink = document.createElement('div');\n",
              "          docLink.innerHTML = docLinkHtml;\n",
              "          element.appendChild(docLink);\n",
              "        }\n",
              "      </script>\n",
              "    </div>\n",
              "  </div>\n",
              "  "
            ]
          },
          "metadata": {}
        }
      ]
    }
  ]
}